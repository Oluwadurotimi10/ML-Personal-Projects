{
 "cells": [
  {
   "cell_type": "markdown",
   "metadata": {},
   "source": [
    "# Importing the necessary libraries"
   ]
  },
  {
   "cell_type": "code",
   "execution_count": 1,
   "metadata": {},
   "outputs": [],
   "source": [
    "#importing all the necessary libraries\n",
    "import pandas as pd\n",
    "import matplotlib.pyplot as plt\n",
    "%matplotlib inline\n",
    "import seaborn as sns\n",
    "import numpy as np\n",
    "from sklearn.tree import DecisionTreeClassifier"
   ]
  },
  {
   "cell_type": "markdown",
   "metadata": {},
   "source": [
    "# Load Data"
   ]
  },
  {
   "cell_type": "code",
   "execution_count": 2,
   "metadata": {},
   "outputs": [],
   "source": [
    "#loading the data into jupyter notebook\n",
    "#Giving names to the columns in the data\n",
    "columns = [ \"SepalLengthCm\", \"SepalWidthCm\",\"PetalLenghtCm\", \"PetalWidthCm\",\"Species\"]\n",
    "irisdata = pd.read_csv(r\"iris.csv\", names = columns)"
   ]
  },
  {
   "cell_type": "code",
   "execution_count": 3,
   "metadata": {},
   "outputs": [
    {
     "data": {
      "text/html": [
       "<div>\n",
       "<style scoped>\n",
       "    .dataframe tbody tr th:only-of-type {\n",
       "        vertical-align: middle;\n",
       "    }\n",
       "\n",
       "    .dataframe tbody tr th {\n",
       "        vertical-align: top;\n",
       "    }\n",
       "\n",
       "    .dataframe thead th {\n",
       "        text-align: right;\n",
       "    }\n",
       "</style>\n",
       "<table border=\"1\" class=\"dataframe\">\n",
       "  <thead>\n",
       "    <tr style=\"text-align: right;\">\n",
       "      <th></th>\n",
       "      <th>SepalLengthCm</th>\n",
       "      <th>SepalWidthCm</th>\n",
       "      <th>PetalLenghtCm</th>\n",
       "      <th>PetalWidthCm</th>\n",
       "      <th>Species</th>\n",
       "    </tr>\n",
       "  </thead>\n",
       "  <tbody>\n",
       "    <tr>\n",
       "      <th>0</th>\n",
       "      <td>5.1</td>\n",
       "      <td>3.5</td>\n",
       "      <td>1.4</td>\n",
       "      <td>0.2</td>\n",
       "      <td>Iris-setosa</td>\n",
       "    </tr>\n",
       "    <tr>\n",
       "      <th>1</th>\n",
       "      <td>4.9</td>\n",
       "      <td>3.0</td>\n",
       "      <td>1.4</td>\n",
       "      <td>0.2</td>\n",
       "      <td>Iris-setosa</td>\n",
       "    </tr>\n",
       "    <tr>\n",
       "      <th>2</th>\n",
       "      <td>4.7</td>\n",
       "      <td>3.2</td>\n",
       "      <td>1.3</td>\n",
       "      <td>0.2</td>\n",
       "      <td>Iris-setosa</td>\n",
       "    </tr>\n",
       "    <tr>\n",
       "      <th>3</th>\n",
       "      <td>4.6</td>\n",
       "      <td>3.1</td>\n",
       "      <td>1.5</td>\n",
       "      <td>0.2</td>\n",
       "      <td>Iris-setosa</td>\n",
       "    </tr>\n",
       "    <tr>\n",
       "      <th>4</th>\n",
       "      <td>5.0</td>\n",
       "      <td>3.6</td>\n",
       "      <td>1.4</td>\n",
       "      <td>0.2</td>\n",
       "      <td>Iris-setosa</td>\n",
       "    </tr>\n",
       "  </tbody>\n",
       "</table>\n",
       "</div>"
      ],
      "text/plain": [
       "   SepalLengthCm  SepalWidthCm  PetalLenghtCm  PetalWidthCm      Species\n",
       "0            5.1           3.5            1.4           0.2  Iris-setosa\n",
       "1            4.9           3.0            1.4           0.2  Iris-setosa\n",
       "2            4.7           3.2            1.3           0.2  Iris-setosa\n",
       "3            4.6           3.1            1.5           0.2  Iris-setosa\n",
       "4            5.0           3.6            1.4           0.2  Iris-setosa"
      ]
     },
     "execution_count": 3,
     "metadata": {},
     "output_type": "execute_result"
    }
   ],
   "source": [
    "irisdata.head()"
   ]
  },
  {
   "cell_type": "code",
   "execution_count": 4,
   "metadata": {},
   "outputs": [
    {
     "data": {
      "text/plain": [
       "SepalLengthCm    False\n",
       "SepalWidthCm     False\n",
       "PetalLenghtCm    False\n",
       "PetalWidthCm     False\n",
       "Species          False\n",
       "dtype: bool"
      ]
     },
     "execution_count": 4,
     "metadata": {},
     "output_type": "execute_result"
    }
   ],
   "source": [
    "#checking for any null values in the data\n",
    "irisdata.isnull().any()"
   ]
  },
  {
   "cell_type": "code",
   "execution_count": 5,
   "metadata": {},
   "outputs": [
    {
     "data": {
      "text/plain": [
       "SepalLengthCm    float64\n",
       "SepalWidthCm     float64\n",
       "PetalLenghtCm    float64\n",
       "PetalWidthCm     float64\n",
       "Species           object\n",
       "dtype: object"
      ]
     },
     "execution_count": 5,
     "metadata": {},
     "output_type": "execute_result"
    }
   ],
   "source": [
    "#checking the data type of each column\n",
    "irisdata.dtypes"
   ]
  },
  {
   "cell_type": "code",
   "execution_count": 6,
   "metadata": {},
   "outputs": [
    {
     "data": {
      "text/html": [
       "<div>\n",
       "<style scoped>\n",
       "    .dataframe tbody tr th:only-of-type {\n",
       "        vertical-align: middle;\n",
       "    }\n",
       "\n",
       "    .dataframe tbody tr th {\n",
       "        vertical-align: top;\n",
       "    }\n",
       "\n",
       "    .dataframe thead th {\n",
       "        text-align: right;\n",
       "    }\n",
       "</style>\n",
       "<table border=\"1\" class=\"dataframe\">\n",
       "  <thead>\n",
       "    <tr style=\"text-align: right;\">\n",
       "      <th></th>\n",
       "      <th>SepalLengthCm</th>\n",
       "      <th>SepalWidthCm</th>\n",
       "      <th>PetalLenghtCm</th>\n",
       "      <th>PetalWidthCm</th>\n",
       "    </tr>\n",
       "  </thead>\n",
       "  <tbody>\n",
       "    <tr>\n",
       "      <th>count</th>\n",
       "      <td>150.000000</td>\n",
       "      <td>150.000000</td>\n",
       "      <td>150.000000</td>\n",
       "      <td>150.000000</td>\n",
       "    </tr>\n",
       "    <tr>\n",
       "      <th>mean</th>\n",
       "      <td>5.843333</td>\n",
       "      <td>3.054000</td>\n",
       "      <td>3.758667</td>\n",
       "      <td>1.198667</td>\n",
       "    </tr>\n",
       "    <tr>\n",
       "      <th>std</th>\n",
       "      <td>0.828066</td>\n",
       "      <td>0.433594</td>\n",
       "      <td>1.764420</td>\n",
       "      <td>0.763161</td>\n",
       "    </tr>\n",
       "    <tr>\n",
       "      <th>min</th>\n",
       "      <td>4.300000</td>\n",
       "      <td>2.000000</td>\n",
       "      <td>1.000000</td>\n",
       "      <td>0.100000</td>\n",
       "    </tr>\n",
       "    <tr>\n",
       "      <th>25%</th>\n",
       "      <td>5.100000</td>\n",
       "      <td>2.800000</td>\n",
       "      <td>1.600000</td>\n",
       "      <td>0.300000</td>\n",
       "    </tr>\n",
       "    <tr>\n",
       "      <th>50%</th>\n",
       "      <td>5.800000</td>\n",
       "      <td>3.000000</td>\n",
       "      <td>4.350000</td>\n",
       "      <td>1.300000</td>\n",
       "    </tr>\n",
       "    <tr>\n",
       "      <th>75%</th>\n",
       "      <td>6.400000</td>\n",
       "      <td>3.300000</td>\n",
       "      <td>5.100000</td>\n",
       "      <td>1.800000</td>\n",
       "    </tr>\n",
       "    <tr>\n",
       "      <th>max</th>\n",
       "      <td>7.900000</td>\n",
       "      <td>4.400000</td>\n",
       "      <td>6.900000</td>\n",
       "      <td>2.500000</td>\n",
       "    </tr>\n",
       "  </tbody>\n",
       "</table>\n",
       "</div>"
      ],
      "text/plain": [
       "       SepalLengthCm  SepalWidthCm  PetalLenghtCm  PetalWidthCm\n",
       "count     150.000000    150.000000     150.000000    150.000000\n",
       "mean        5.843333      3.054000       3.758667      1.198667\n",
       "std         0.828066      0.433594       1.764420      0.763161\n",
       "min         4.300000      2.000000       1.000000      0.100000\n",
       "25%         5.100000      2.800000       1.600000      0.300000\n",
       "50%         5.800000      3.000000       4.350000      1.300000\n",
       "75%         6.400000      3.300000       5.100000      1.800000\n",
       "max         7.900000      4.400000       6.900000      2.500000"
      ]
     },
     "execution_count": 6,
     "metadata": {},
     "output_type": "execute_result"
    }
   ],
   "source": [
    "#getting a mathematical description of every column\n",
    "irisdata.describe()"
   ]
  },
  {
   "cell_type": "code",
   "execution_count": 7,
   "metadata": {},
   "outputs": [
    {
     "data": {
      "text/plain": [
       "(150, 5)"
      ]
     },
     "execution_count": 7,
     "metadata": {},
     "output_type": "execute_result"
    }
   ],
   "source": [
    "#getting the shape of the data\n",
    "irisdata.shape"
   ]
  },
  {
   "cell_type": "code",
   "execution_count": 8,
   "metadata": {},
   "outputs": [
    {
     "data": {
      "text/plain": [
       "Species\n",
       "Iris-setosa        50\n",
       "Iris-versicolor    50\n",
       "Iris-virginica     50\n",
       "dtype: int64"
      ]
     },
     "execution_count": 8,
     "metadata": {},
     "output_type": "execute_result"
    }
   ],
   "source": [
    "#class distribution\n",
    "irisdata.groupby('Species').size()"
   ]
  },
  {
   "cell_type": "markdown",
   "metadata": {},
   "source": [
    "# Visualize Data"
   ]
  },
  {
   "cell_type": "code",
   "execution_count": 9,
   "metadata": {},
   "outputs": [
    {
     "data": {
      "image/png": "[encoded data removed]",
      "text/plain": [
       "<Figure size 432x288 with 4 Axes>"
      ]
     },
     "metadata": {
      "needs_background": "light"
     },
     "output_type": "display_data"
    }
   ],
   "source": [
    "#box and whisker plots\n",
    "irisdata.plot(kind='box', subplots=True, layout=(2,2), sharex=False, sharey=False)\n",
    "plt.show()"
   ]
  },
  {
   "cell_type": "code",
   "execution_count": 10,
   "metadata": {},
   "outputs": [
    {
     "data": {
      "image/png": "[encoded data removed]",
      "text/plain": [
       "<Figure size 432x288 with 4 Axes>"
      ]
     },
     "metadata": {
      "needs_background": "light"
     },
     "output_type": "display_data"
    }
   ],
   "source": [
    "#visualizing each feature using histogram\n",
    "irisdata.hist()\n",
    "plt.show()"
   ]
  },
  {
   "cell_type": "code",
   "execution_count": 11,
   "metadata": {},
   "outputs": [
    {
     "name": "stderr",
     "output_type": "stream",
     "text": [
      "C:\\Users\\JADESOLA\\Anaconda3\\lib\\site-packages\\scipy\\stats\\stats.py:1713: FutureWarning: Using a non-tuple sequence for multidimensional indexing is deprecated; use `arr[tuple(seq)]` instead of `arr[seq]`. In the future this will be interpreted as an array index, `arr[np.array(seq)]`, which will result either in an error or a different result.\n",
      "  return np.add.reduce(sorted[indexer] * weights, axis=axis) / sumval\n"
     ]
    },
    {
     "data": {
      "text/plain": [
       "<seaborn.axisgrid.PairGrid at 0x207c1ce72e8>"
      ]
     },
     "execution_count": 11,
     "metadata": {},
     "output_type": "execute_result"
    },
    {
     "data": {
      "image/png": "[encoded data removed]",
      "text/plain": [
       "<Figure size 823.5x720 with 20 Axes>"
      ]
     },
     "metadata": {
      "needs_background": "light"
     },
     "output_type": "display_data"
    }
   ],
   "source": [
    "#visualizing each feature against eachother using seaborn\n",
    "sns.pairplot (irisdata, hue = \"Species\")"
   ]
  },
  {
   "cell_type": "code",
   "execution_count": 12,
   "metadata": {},
   "outputs": [],
   "source": [
    "#dividing the data into features(X) and target(y)\n",
    "X = irisdata[[\"SepalLengthCm\", \"SepalWidthCm\",\"PetalLenghtCm\", \"PetalWidthCm\"]].values\n",
    "y = irisdata[\"Species\"].values"
   ]
  },
  {
   "cell_type": "code",
   "execution_count": 13,
   "metadata": {},
   "outputs": [
    {
     "data": {
      "image/png": "[encoded data removed]",
      "text/plain": [
       "<Figure size 432x288 with 1 Axes>"
      ]
     },
     "metadata": {
      "needs_background": "light"
     },
     "output_type": "display_data"
    }
   ],
   "source": [
    "#plotting scatter plots of the features against eachother using matplotlib\n",
    "#plotting the sepalwidth against the sepallength\n",
    "colors = {'Iris-setosa': 'red', 'Iris-versicolor': 'blue', 'Iris-virginica': 'green'}\n",
    "plt.scatter(X[:, 0], X[:, 1], c=[colors[_y] for _y in y], s=25, edgecolors='k')\n",
    "plt.xlabel('SepalLengthCm')\n",
    "plt.ylabel('SepalWidthCm')\n",
    "plt.legend(['Iris_setosa ', 'Iris-versicolor', 'Iris-virginica'], loc=\"upper right\")\n",
    "plt.show()"
   ]
  },
  {
   "cell_type": "code",
   "execution_count": 14,
   "metadata": {},
   "outputs": [
    {
     "data": {
      "image/png": "[encoded data removed]",
      "text/plain": [
       "<Figure size 432x288 with 1 Axes>"
      ]
     },
     "metadata": {
      "needs_background": "light"
     },
     "output_type": "display_data"
    }
   ],
   "source": [
    "#plotting the petalwidth against the petallength\n",
    "colors = {'Iris-setosa': 'red', 'Iris-versicolor': 'blue', 'Iris-virginica': 'green'}\n",
    "plt.scatter(X[:, 2], X[:, 3], c=[colors[_y] for _y in y], s=25, edgecolors='k')\n",
    "plt.xlabel('PetalLengthCm')\n",
    "plt.ylabel('PetalWidthCm')\n",
    "plt.legend(['Iris_setosa ', 'Iris-versicolor', 'Iris-virginica'], loc=\"upper right\")\n",
    "plt.show()"
   ]
  },
  {
   "cell_type": "markdown",
   "metadata": {},
   "source": [
    "# Split data"
   ]
  },
  {
   "cell_type": "code",
   "execution_count": 15,
   "metadata": {},
   "outputs": [],
   "source": [
    "import collections\n",
    "from sklearn.model_selection import train_test_split"
   ]
  },
  {
   "cell_type": "code",
   "execution_count": 16,
   "metadata": {},
   "outputs": [],
   "source": [
    "TRAIN_SIZE = 0.7\n",
    "VAL_SIZE = 0.15\n",
    "TEST_SIZE = 0.15\n",
    "SHUFFLE = True"
   ]
  },
  {
   "cell_type": "code",
   "execution_count": 17,
   "metadata": {},
   "outputs": [
    {
     "data": {
      "text/plain": [
       "(150, 4)"
      ]
     },
     "execution_count": 17,
     "metadata": {},
     "output_type": "execute_result"
    }
   ],
   "source": [
    "#the shape of the input(features)\n",
    "X.shape"
   ]
  },
  {
   "cell_type": "code",
   "execution_count": 18,
   "metadata": {},
   "outputs": [
    {
     "data": {
      "text/plain": [
       "(150,)"
      ]
     },
     "execution_count": 18,
     "metadata": {},
     "output_type": "execute_result"
    }
   ],
   "source": [
    "#the shape of the target\n",
    "y.shape"
   ]
  },
  {
   "cell_type": "code",
   "execution_count": 19,
   "metadata": {},
   "outputs": [],
   "source": [
    "def train_val_test_split(X, y, val_size, test_size, shuffle):\n",
    "    \"\"\"Split data into train/val/test datasets.\n",
    "    \"\"\"\n",
    "    X_train, X_test, y_train, y_test = train_test_split(\n",
    "        X, y, test_size=test_size, stratify=y, shuffle=shuffle) # notice the `stratify=y`\n",
    "    X_train, X_val, y_train, y_val = train_test_split(\n",
    "        X_train, y_train, test_size=val_size, stratify=y_train, shuffle=shuffle) # notice the `stratify=y_train`\n",
    "    return X_train, X_val, X_test, y_train, y_val, y_test"
   ]
  },
  {
   "cell_type": "code",
   "execution_count": 20,
   "metadata": {},
   "outputs": [
    {
     "name": "stdout",
     "output_type": "stream",
     "text": [
      "X_train: (107, 4), y_train: (107,)\n",
      "X_val: (20, 4), y_val: (20,)\n",
      "X_test: (23, 4), y_test: (23,)\n",
      "Sample point: [6.7 3.1 5.6 2.4] → Iris-virginica\n",
      "Classes: {'Iris-setosa': 50, 'Iris-versicolor': 50, 'Iris-virginica': 50}\n"
     ]
    }
   ],
   "source": [
    "# Create data splits\n",
    "X_train, X_val, X_test, y_train, y_val, y_test = train_val_test_split(\n",
    "    X=X, y=y, val_size=VAL_SIZE, test_size=TEST_SIZE, shuffle=SHUFFLE)\n",
    "class_counts = dict(collections.Counter(y))\n",
    "print (f\"X_train: {X_train.shape}, y_train: {y_train.shape}\")\n",
    "print (f\"X_val: {X_val.shape}, y_val: {y_val.shape}\")\n",
    "print (f\"X_test: {X_test.shape}, y_test: {y_test.shape}\")\n",
    "print (f\"Sample point: {X_train[80]} → {y_train[80]}\")\n",
    "print (f\"Classes: {class_counts}\") "
   ]
  },
  {
   "cell_type": "code",
   "execution_count": 21,
   "metadata": {},
   "outputs": [
    {
     "name": "stdout",
     "output_type": "stream",
     "text": [
      "y_train[0]: Iris-setosa\n"
     ]
    }
   ],
   "source": [
    "print (f\"y_train[0]: {y_train[0]}\") # viewing y before encoding"
   ]
  },
  {
   "cell_type": "markdown",
   "metadata": {},
   "source": [
    "# Standardize Data"
   ]
  },
  {
   "cell_type": "code",
   "execution_count": 22,
   "metadata": {},
   "outputs": [],
   "source": [
    "from sklearn.preprocessing import StandardScaler"
   ]
  },
  {
   "cell_type": "code",
   "execution_count": 23,
   "metadata": {},
   "outputs": [],
   "source": [
    "# Standardize the data (mean=0, std=1) using training data\n",
    "X_scaler = StandardScaler().fit(X_train)"
   ]
  },
  {
   "cell_type": "code",
   "execution_count": 24,
   "metadata": {},
   "outputs": [],
   "source": [
    "# Apply scaler on training and test data (don't standardize outputs for classification)\n",
    "X_train = X_scaler.transform(X_train)\n",
    "X_val = X_scaler.transform(X_val)\n",
    "X_test = X_scaler.transform(X_test)"
   ]
  },
  {
   "cell_type": "code",
   "execution_count": 25,
   "metadata": {},
   "outputs": [
    {
     "name": "stdout",
     "output_type": "stream",
     "text": [
      "X_train[0]: mean: -0.0, std: 1.0\n",
      "X_train[1]: mean: 0.0, std: 1.0\n",
      "X_train[2]: mean: -0.0, std: 1.0\n",
      "X_train[3]: mean: 0.0, std: 1.0\n",
      "X_val[0]: mean: 0.1, std: 1.0\n",
      "X_val[1]: mean: -0.1, std: 0.9\n",
      "X_val[2]: mean: 0.1, std: 1.0\n",
      "X_val[3]: mean: 0.2, std: 1.0\n",
      "X_test[0]: mean: -0.1, std: 0.9\n",
      "X_test[1]: mean: 0.1, std: 1.1\n",
      "X_test[2]: mean: -0.0, std: 1.0\n",
      "X_test[3]: mean: -0.0, std: 1.0\n"
     ]
    }
   ],
   "source": [
    "# Checking the meadn and std to confirm standardization (mean should be ~0 and std should be ~1)\n",
    "print (f\"X_train[0]: mean: {np.mean(X_train[:, 0], axis=0):.1f}, std: {np.std(X_train[:, 0], axis=0):.1f}\")\n",
    "print (f\"X_train[1]: mean: {np.mean(X_train[:, 1], axis=0):.1f}, std: {np.std(X_train[:, 1], axis=0):.1f}\")\n",
    "print (f\"X_train[2]: mean: {np.mean(X_train[:, 2], axis=0):.1f}, std: {np.std(X_train[:, 2], axis=0):.1f}\")\n",
    "print (f\"X_train[3]: mean: {np.mean(X_train[:, 3], axis=0):.1f}, std: {np.std(X_train[:, 3], axis=0):.1f}\")\n",
    "print (f\"X_val[0]: mean: {np.mean(X_val[:, 0], axis=0):.1f}, std: {np.std(X_val[:, 0], axis=0):.1f}\")\n",
    "print (f\"X_val[1]: mean: {np.mean(X_val[:, 1], axis=0):.1f}, std: {np.std(X_val[:, 1], axis=0):.1f}\")\n",
    "print (f\"X_val[2]: mean: {np.mean(X_val[:, 2], axis=0):.1f}, std: {np.std(X_val[:, 2], axis=0):.1f}\")\n",
    "print (f\"X_val[3]: mean: {np.mean(X_val[:, 3], axis=0):.1f}, std: {np.std(X_val[:, 3], axis=0):.1f}\")\n",
    "print (f\"X_test[0]: mean: {np.mean(X_test[:, 0], axis=0):.1f}, std: {np.std(X_test[:, 0], axis=0):.1f}\")\n",
    "print (f\"X_test[1]: mean: {np.mean(X_test[:, 1], axis=0):.1f}, std: {np.std(X_test[:, 1], axis=0):.1f}\")\n",
    "print (f\"X_test[2]: mean: {np.mean(X_test[:, 2], axis=0):.1f}, std: {np.std(X_test[:, 2], axis=0):.1f}\")\n",
    "print (f\"X_test[3]: mean: {np.mean(X_test[:, 3], axis=0):.1f}, std: {np.std(X_test[:, 3], axis=0):.1f}\")"
   ]
  },
  {
   "cell_type": "markdown",
   "metadata": {},
   "source": [
    "# Comparing different architectures"
   ]
  },
  {
   "cell_type": "code",
   "execution_count": 53,
   "metadata": {},
   "outputs": [],
   "source": [
    "from sklearn.model_selection import cross_val_score\n",
    "from sklearn.metrics import classification_report\n",
    "from sklearn.metrics import accuracy_score\n",
    "from sklearn.metrics import confusion_matrix\n",
    "from sklearn.model_selection import StratifiedKFold\n",
    "from sklearn.linear_model import LogisticRegression\n",
    "from sklearn.tree import DecisionTreeClassifier\n",
    "from sklearn.neighbors import KNeighborsClassifier\n",
    "from sklearn.naive_bayes import GaussianNB\n",
    "from sklearn.svm import SVC"
   ]
  },
  {
   "cell_type": "code",
   "execution_count": 42,
   "metadata": {},
   "outputs": [],
   "source": [
    "#making all the algorithms to a list\n",
    "models = []\n",
    "models.append(('LR', LogisticRegression(solver='liblinear', multi_class = 'ovr')))\n",
    "models.append(('KNN', KNeighborsClassifier()))\n",
    "models.append(('DTC',DecisionTreeClassifier()))\n",
    "models.append(('NB', GaussianNB()))\n",
    "models.append(('SVM', SVC(gamma='auto')))"
   ]
  },
  {
   "cell_type": "code",
   "execution_count": 45,
   "metadata": {},
   "outputs": [
    {
     "name": "stdout",
     "output_type": "stream",
     "text": [
      "LR: 0.901263 (0.096022)\n",
      "KNN: 0.945707 (0.071168)\n",
      "DTC: 0.955556 (0.069389)\n",
      "NB: 0.946465 (0.068924)\n",
      "SVM: 0.965909 (0.056004)\n"
     ]
    }
   ],
   "source": [
    "#evaluating each model one by one\n",
    "results = []\n",
    "names = []\n",
    "for name,model in models:\n",
    "    kfold = StratifiedKFold(n_splits=10, random_state=1, shuffle =True)\n",
    "    cv_results = cross_val_score(model, X_train, y_train, cv=kfold, scoring ='accuracy')\n",
    "    results.append(cv_results)\n",
    "    names.append(name)\n",
    "    print('%s: %f (%f)' %(name,cv_results.mean(),cv_results.std()))"
   ]
  },
  {
   "cell_type": "code",
   "execution_count": 59,
   "metadata": {},
   "outputs": [
    {
     "name": "stdout",
     "output_type": "stream",
     "text": [
      "LR: val_acc:0.85,test_acc:0.91\n",
      "LR: Cmatrix_val: [[5 1 0]\n",
      " [0 5 2]\n",
      " [0 0 7]] Cmatrix_test: [[8 0 0]\n",
      " [0 7 1]\n",
      " [0 1 6]]\n",
      "LR: class_val_report: \n",
      "                  precision    recall  f1-score   support\n",
      "\n",
      "    Iris-setosa       1.00      0.83      0.91         6\n",
      "Iris-versicolor       0.83      0.71      0.77         7\n",
      " Iris-virginica       0.78      1.00      0.88         7\n",
      "\n",
      "      micro avg       0.85      0.85      0.85        20\n",
      "      macro avg       0.87      0.85      0.85        20\n",
      "   weighted avg       0.86      0.85      0.85        20\n",
      " class_test_report: \n",
      "                  precision    recall  f1-score   support\n",
      "\n",
      "    Iris-setosa       1.00      1.00      1.00         8\n",
      "Iris-versicolor       0.88      0.88      0.88         8\n",
      " Iris-virginica       0.86      0.86      0.86         7\n",
      "\n",
      "      micro avg       0.91      0.91      0.91        23\n",
      "      macro avg       0.91      0.91      0.91        23\n",
      "   weighted avg       0.91      0.91      0.91        23\n",
      "\n",
      "KNN: val_acc:0.90,test_acc:0.91\n",
      "KNN: Cmatrix_val: [[5 1 0]\n",
      " [0 6 1]\n",
      " [0 0 7]] Cmatrix_test: [[8 0 0]\n",
      " [0 7 1]\n",
      " [0 1 6]]\n",
      "KNN: class_val_report: \n",
      "                  precision    recall  f1-score   support\n",
      "\n",
      "    Iris-setosa       1.00      0.83      0.91         6\n",
      "Iris-versicolor       0.86      0.86      0.86         7\n",
      " Iris-virginica       0.88      1.00      0.93         7\n",
      "\n",
      "      micro avg       0.90      0.90      0.90        20\n",
      "      macro avg       0.91      0.90      0.90        20\n",
      "   weighted avg       0.91      0.90      0.90        20\n",
      " class_test_report: \n",
      "                  precision    recall  f1-score   support\n",
      "\n",
      "    Iris-setosa       1.00      1.00      1.00         8\n",
      "Iris-versicolor       0.88      0.88      0.88         8\n",
      " Iris-virginica       0.86      0.86      0.86         7\n",
      "\n",
      "      micro avg       0.91      0.91      0.91        23\n",
      "      macro avg       0.91      0.91      0.91        23\n",
      "   weighted avg       0.91      0.91      0.91        23\n",
      "\n",
      "DTC: val_acc:0.95,test_acc:0.91\n",
      "DTC: Cmatrix_val: [[6 0 0]\n",
      " [0 6 1]\n",
      " [0 0 7]] Cmatrix_test: [[8 0 0]\n",
      " [0 7 1]\n",
      " [0 1 6]]\n",
      "DTC: class_val_report: \n",
      "                  precision    recall  f1-score   support\n",
      "\n",
      "    Iris-setosa       1.00      1.00      1.00         6\n",
      "Iris-versicolor       1.00      0.86      0.92         7\n",
      " Iris-virginica       0.88      1.00      0.93         7\n",
      "\n",
      "      micro avg       0.95      0.95      0.95        20\n",
      "      macro avg       0.96      0.95      0.95        20\n",
      "   weighted avg       0.96      0.95      0.95        20\n",
      " class_test_report: \n",
      "                  precision    recall  f1-score   support\n",
      "\n",
      "    Iris-setosa       1.00      1.00      1.00         8\n",
      "Iris-versicolor       0.88      0.88      0.88         8\n",
      " Iris-virginica       0.86      0.86      0.86         7\n",
      "\n",
      "      micro avg       0.91      0.91      0.91        23\n",
      "      macro avg       0.91      0.91      0.91        23\n",
      "   weighted avg       0.91      0.91      0.91        23\n",
      "\n",
      "NB: val_acc:0.95,test_acc:0.96\n",
      "NB: Cmatrix_val: [[6 0 0]\n",
      " [0 6 1]\n",
      " [0 0 7]] Cmatrix_test: [[8 0 0]\n",
      " [0 8 0]\n",
      " [0 1 6]]\n",
      "NB: class_val_report: \n",
      "                  precision    recall  f1-score   support\n",
      "\n",
      "    Iris-setosa       1.00      1.00      1.00         6\n",
      "Iris-versicolor       1.00      0.86      0.92         7\n",
      " Iris-virginica       0.88      1.00      0.93         7\n",
      "\n",
      "      micro avg       0.95      0.95      0.95        20\n",
      "      macro avg       0.96      0.95      0.95        20\n",
      "   weighted avg       0.96      0.95      0.95        20\n",
      " class_test_report: \n",
      "                  precision    recall  f1-score   support\n",
      "\n",
      "    Iris-setosa       1.00      1.00      1.00         8\n",
      "Iris-versicolor       0.89      1.00      0.94         8\n",
      " Iris-virginica       1.00      0.86      0.92         7\n",
      "\n",
      "      micro avg       0.96      0.96      0.96        23\n",
      "      macro avg       0.96      0.95      0.95        23\n",
      "   weighted avg       0.96      0.96      0.96        23\n",
      "\n",
      "SVM: val_acc:0.95,test_acc:0.91\n",
      "SVM: Cmatrix_val: [[6 0 0]\n",
      " [0 6 1]\n",
      " [0 0 7]] Cmatrix_test: [[8 0 0]\n",
      " [0 7 1]\n",
      " [0 1 6]]\n",
      "SVM: class_val_report: \n",
      "                  precision    recall  f1-score   support\n",
      "\n",
      "    Iris-setosa       1.00      1.00      1.00         6\n",
      "Iris-versicolor       1.00      0.86      0.92         7\n",
      " Iris-virginica       0.88      1.00      0.93         7\n",
      "\n",
      "      micro avg       0.95      0.95      0.95        20\n",
      "      macro avg       0.96      0.95      0.95        20\n",
      "   weighted avg       0.96      0.95      0.95        20\n",
      " class_test_report: \n",
      "                  precision    recall  f1-score   support\n",
      "\n",
      "    Iris-setosa       1.00      1.00      1.00         8\n",
      "Iris-versicolor       0.88      0.88      0.88         8\n",
      " Iris-virginica       0.86      0.86      0.86         7\n",
      "\n",
      "      micro avg       0.91      0.91      0.91        23\n",
      "      macro avg       0.91      0.91      0.91        23\n",
      "   weighted avg       0.91      0.91      0.91        23\n",
      "\n"
     ]
    }
   ],
   "source": [
    "#making predictions\n",
    "for name, model in models:\n",
    "    model.fit(X_train,y_train)\n",
    "    prediction_val = model.predict(X_val)\n",
    "    prediction_test = model.predict(X_test)\n",
    "    #evaluating predictions\n",
    "    print('%s:' %(name), f\"val_acc:{accuracy_score(y_val,prediction_val):.2f},test_acc:{accuracy_score(y_test,prediction_test):.2f}\")\n",
    "    print('%s:' %(name), 'Cmatrix_val:',confusion_matrix(y_val,prediction_val),'Cmatrix_test:',confusion_matrix(y_test,prediction_test))\n",
    "    print('%s:' %(name), 'class_val_report: \\n',classification_report(y_val,prediction_val),'class_test_report: \\n',classification_report(y_test,prediction_test))"
   ]
  },
  {
   "cell_type": "code",
   "execution_count": null,
   "metadata": {},
   "outputs": [],
   "source": []
  },
  {
   "cell_type": "markdown",
   "metadata": {},
   "source": [
    "# Using one-hot encoder"
   ]
  },
  {
   "cell_type": "code",
   "execution_count": 67,
   "metadata": {},
   "outputs": [],
   "source": [
    "#importing the OneHotEncoder\n",
    "from sklearn.preprocessing import OneHotEncoder"
   ]
  },
  {
   "cell_type": "code",
   "execution_count": 68,
   "metadata": {},
   "outputs": [],
   "source": [
    "#reshaping the y_train,y_test and y_val to aabs 2D array\n",
    "y_train = y_train.reshape(107,1)\n",
    "y_val = y_val.reshape(20,1)\n",
    "y_test = y_test.reshape(23,1)"
   ]
  },
  {
   "cell_type": "code",
   "execution_count": 69,
   "metadata": {},
   "outputs": [
    {
     "name": "stdout",
     "output_type": "stream",
     "text": [
      "y_train_shape: (107, 3)\n",
      "y_train[0]: [[1. 0. 0.]\n",
      " [1. 0. 0.]]\n"
     ]
    }
   ],
   "source": [
    "#encoding the output variables\n",
    "onehot_encoder = OneHotEncoder(sparse=False)\n",
    "onehot_encoder.fit(y_train)\n",
    "y_train = onehot_encoder.transform(y_train)\n",
    "y_test = onehot_encoder.transform(y_test)\n",
    "print (f\"y_train_shape: {y_train.shape}\")\n",
    "print (f\"y_train[0]: {y_train[:2,:]}\")"
   ]
  },
  {
   "cell_type": "markdown",
   "metadata": {},
   "source": [
    "# Logistic Regression from scratch"
   ]
  },
  {
   "cell_type": "code",
   "execution_count": 71,
   "metadata": {},
   "outputs": [],
   "source": [
    "#initiallizing weights\n",
    "INPUT_DIM = X_train.shape[1] # X is 2-dimensional\n",
    "NUM_CLASSES = 3 # y has three possibilities"
   ]
  },
  {
   "cell_type": "code",
   "execution_count": 72,
   "metadata": {},
   "outputs": [
    {
     "name": "stdout",
     "output_type": "stream",
     "text": [
      "W: (4, 3)\n",
      "b: (1, 3)\n"
     ]
    }
   ],
   "source": [
    "# Initialize random weights\n",
    "W = 0.01 * np.random.randn(INPUT_DIM, NUM_CLASSES)\n",
    "b = np.zeros((1, NUM_CLASSES))\n",
    "print (f\"W: {W.shape}\")\n",
    "print (f\"b: {b.shape}\")"
   ]
  },
  {
   "cell_type": "code",
   "execution_count": 73,
   "metadata": {},
   "outputs": [
    {
     "name": "stdout",
     "output_type": "stream",
     "text": [
      "z: (107, 3)\n",
      "sample: [ 0.00341616 -0.03312759  0.00063358]\n"
     ]
    }
   ],
   "source": [
    "#defining the model\n",
    "# Forward pass [NXinput_dim] · [input_dimXnum_class] + [1,num_class] = [NXnum_class]\n",
    "z = np.dot(X_train, W) + b\n",
    "print (f\"z: {z.shape}\")\n",
    "print (f\"sample: {z[0]}\")"
   ]
  },
  {
   "cell_type": "code",
   "execution_count": 116,
   "metadata": {},
   "outputs": [],
   "source": [
    "def sigmoid(z):\n",
    "    return 1/ (1+ np.exp(-z))"
   ]
  },
  {
   "cell_type": "code",
   "execution_count": 74,
   "metadata": {},
   "outputs": [
    {
     "name": "stdout",
     "output_type": "stream",
     "text": [
      "y_hat_shape: (107, 3)\n",
      "sample: [0.33768529 0.32556776 0.33674695]\n"
     ]
    }
   ],
   "source": [
    "# Normalization via softmax to obtain class probabilities\n",
    "exp_z = np.exp(z)\n",
    "y_hat = exp_z / np.sum(exp_z, axis=1, keepdims=True)\n",
    "print (f\"y_hat_shape: {y_hat.shape}\")\n",
    "print (f\"sample: {y_hat[0]}\")"
   ]
  },
  {
   "cell_type": "code",
   "execution_count": 75,
   "metadata": {},
   "outputs": [
    {
     "name": "stdout",
     "output_type": "stream",
     "text": [
      "y_train[0]: [0. 0. 1.]\n"
     ]
    },
    {
     "data": {
      "text/plain": [
       "(107, 3)"
      ]
     },
     "execution_count": 75,
     "metadata": {},
     "output_type": "execute_result"
    }
   ],
   "source": [
    "#changing the type of y_train \n",
    "print (f\"y_train[0]: {y_train[7]}\")\n",
    "y_train = y_train.astype(np.int32)\n",
    "y_train.dtype\n",
    "y_train.shape"
   ]
  },
  {
   "cell_type": "code",
   "execution_count": 78,
   "metadata": {},
   "outputs": [
    {
     "name": "stdout",
     "output_type": "stream",
     "text": [
      "loss: 3.30\n",
      "107\n",
      "352.6891542746879\n"
     ]
    }
   ],
   "source": [
    "# Loss using the initialized random weights\n",
    "correct_class_logprobs = -np.log(y_hat[np.array(np.ix_(range(len(y_hat)))).T,y_train])\n",
    "loss = np.sum(correct_class_logprobs) / (len(y_train))\n",
    "print (f\"loss: {loss:.2f}\")\n",
    "print(len(y_train))\n",
    "print(np.sum(correct_class_logprobs))\n",
    "#print(correct_class_logprobs)"
   ]
  },
  {
   "cell_type": "code",
   "execution_count": 80,
   "metadata": {},
   "outputs": [
    {
     "data": {
      "text/plain": [
       "0.6340009775331358"
      ]
     },
     "execution_count": 80,
     "metadata": {},
     "output_type": "execute_result"
    }
   ],
   "source": [
    "#loss\n",
    "loss = (-y_train*np.log(y_hat)-(1-y_train)*np.log(1-y_hat)).mean()\n",
    "loss"
   ]
  },
  {
   "cell_type": "code",
   "execution_count": 81,
   "metadata": {},
   "outputs": [],
   "source": [
    "# Backpropagation\n",
    "dloss = y_hat\n",
    "dloss[np.array(np.ix_(range(len(y_hat)))).T, y_train] -= 1\n",
    "dloss /= len(y_train)\n",
    "dW = np.dot(X_train.T, dloss)\n",
    "db = np.sum(dloss, axis=0, keepdims=True)"
   ]
  },
  {
   "cell_type": "code",
   "execution_count": 82,
   "metadata": {},
   "outputs": [],
   "source": [
    "#Bacprob\n",
    "dloss = np.dot(X_train.T,(y_hat-y_train))/y_train.size\n",
    "db = np.sum(dloss, axis=0, keepdims=True)"
   ]
  },
  {
   "cell_type": "code",
   "execution_count": 124,
   "metadata": {},
   "outputs": [],
   "source": [
    "LEARNING_RATE = 1e-1"
   ]
  },
  {
   "cell_type": "code",
   "execution_count": 125,
   "metadata": {},
   "outputs": [],
   "source": [
    "# Updating weights\n",
    "W += -LEARNING_RATE * dloss\n",
    "b += -LEARNING_RATE * db"
   ]
  },
  {
   "cell_type": "code",
   "execution_count": 126,
   "metadata": {},
   "outputs": [],
   "source": [
    "NUM_EPOCHS = 50"
   ]
  },
  {
   "cell_type": "markdown",
   "metadata": {},
   "source": [
    "# Training"
   ]
  },
  {
   "cell_type": "code",
   "execution_count": 127,
   "metadata": {},
   "outputs": [
    {
     "name": "stdout",
     "output_type": "stream",
     "text": [
      "Epoch: 0, loss: 0.691, accuracy: 1.093\n",
      "Epoch: 10, loss: 0.610, accuracy: 0.673\n",
      "Epoch: 20, loss: 0.567, accuracy: 0.673\n",
      "Epoch: 30, loss: 0.544, accuracy: 0.673\n",
      "Epoch: 40, loss: 0.532, accuracy: 0.673\n"
     ]
    }
   ],
   "source": [
    "#Putting everything together fot training\n",
    "# Initialize random weights\n",
    "W = 0.01 * np.random.randn(INPUT_DIM, NUM_CLASSES)\n",
    "b = np.zeros((1, NUM_CLASSES))\n",
    "\n",
    "# Training loop\n",
    "for epoch_num in range(NUM_EPOCHS):\n",
    "\n",
    "    # Forward pass [NXinput_dim] · [input_dimXnum_class] + [1,num_class] = [NXnum_class]\n",
    "    z = np.dot(X_train, W) + b\n",
    "    \n",
    "    \n",
    "    # Normalization via sigmoid to obtain class probabilities\n",
    "    y_hat = sigmoid(z)\n",
    "    #y_hat = exp_z / np.sum(exp_z, axis=1, keepdims=True)\n",
    "\n",
    "    #loss\n",
    "    loss = (-y_train*np.log(y_hat)-(1-y_train)*np.log(1-y_hat)).mean()\n",
    "\n",
    "\n",
    "    # show progress\n",
    "    if epoch_num%10 == 0:\n",
    "        # Accuracy\n",
    "        y_pred = np.argmax(z, axis=1)\n",
    "        accuracy = np.count_nonzero((np.equal(y_train,np.array(np.ix_(y_pred)).T))== True)/len(y_pred)\n",
    "        print (f\"Epoch: {epoch_num}, loss: {loss:.3f}, accuracy: {accuracy:.3f}\")\n",
    "           \n",
    "    #Bacpropagation\n",
    "    dloss = np.dot(X_train.T,(y_hat-y_train))/y_train.size\n",
    "    db = np.sum(dloss, axis=0, keepdims=True)\n",
    "\n",
    "    # Update weights\n",
    "    W += -LEARNING_RATE * dloss\n",
    "    b += -LEARNING_RATE * db"
   ]
  },
  {
   "cell_type": "code",
   "execution_count": 128,
   "metadata": {},
   "outputs": [
    {
     "data": {
      "text/plain": [
       "array([[0.69006895, 0.37011603, 0.44714018],\n",
       "       [0.66339228, 0.40917946, 0.43883992],\n",
       "       [0.06980458, 0.51755153, 0.92765941],\n",
       "       [0.69214531, 0.35388306, 0.46163122],\n",
       "       [0.64496443, 0.42510104, 0.44178701],\n",
       "       [0.671006  , 0.42399341, 0.41643805],\n",
       "       [0.69814702, 0.42419771, 0.38594124],\n",
       "       [0.08256403, 0.35952533, 0.95179465],\n",
       "       [0.16053883, 0.48490615, 0.85155959],\n",
       "       [0.70049732, 0.35414103, 0.45183514],\n",
       "       [0.09807755, 0.5761445 , 0.87489641],\n",
       "       [0.13639767, 0.51714655, 0.85894617],\n",
       "       [0.15683711, 0.48137481, 0.85621631],\n",
       "       [0.78339489, 0.31511654, 0.38723256],\n",
       "       [0.67314958, 0.406924  , 0.43070925],\n",
       "       [0.18476554, 0.45135582, 0.8465985 ],\n",
       "       [0.71073212, 0.27597277, 0.52512426],\n",
       "       [0.7091602 , 0.29439198, 0.50640398],\n",
       "       [0.21430959, 0.56044354, 0.75221042],\n",
       "       [0.13575436, 0.51319122, 0.86252853],\n",
       "       [0.09765817, 0.44500283, 0.92048013],\n",
       "       [0.24602791, 0.52211084, 0.74852467],\n",
       "       [0.16564416, 0.48017294, 0.84863232],\n",
       "       [0.03181491, 0.58371479, 0.9568264 ],\n",
       "       [0.78188618, 0.22910967, 0.4921451 ],\n",
       "       [0.76959375, 0.20499805, 0.54194373],\n",
       "       [0.27091761, 0.46810069, 0.76160789],\n",
       "       [0.24416719, 0.48804063, 0.77270664],\n",
       "       [0.13384327, 0.60059086, 0.8195416 ],\n",
       "       [0.23610909, 0.64282263, 0.65991409],\n",
       "       [0.62822026, 0.42690131, 0.45882719],\n",
       "       [0.72873442, 0.3879865 , 0.38506758],\n",
       "       [0.64012558, 0.35414595, 0.51703503],\n",
       "       [0.28940436, 0.58672   , 0.64924998],\n",
       "       [0.08764706, 0.45638537, 0.92564685],\n",
       "       [0.09696615, 0.49050273, 0.90907276],\n",
       "       [0.19137023, 0.49278325, 0.81877276],\n",
       "       [0.68531413, 0.33325023, 0.49016833],\n",
       "       [0.13710004, 0.41701149, 0.89836213],\n",
       "       [0.09094191, 0.49587612, 0.91185497],\n",
       "       [0.68918333, 0.35226801, 0.46627283],\n",
       "       [0.11761027, 0.5099779 , 0.88192043],\n",
       "       [0.10974662, 0.62869238, 0.83549058],\n",
       "       [0.71157184, 0.35601854, 0.43747807],\n",
       "       [0.2300066 , 0.47515391, 0.79384925],\n",
       "       [0.7285226 , 0.42101969, 0.35496803],\n",
       "       [0.09229752, 0.49000758, 0.91219522],\n",
       "       [0.10106442, 0.54325331, 0.88525968],\n",
       "       [0.16966547, 0.49144371, 0.84054113],\n",
       "       [0.70756303, 0.38886224, 0.40894864],\n",
       "       [0.72619816, 0.35433238, 0.42061451],\n",
       "       [0.09159279, 0.35387645, 0.94764282],\n",
       "       [0.14328123, 0.51961802, 0.85236208],\n",
       "       [0.741107  , 0.28901242, 0.4726764 ],\n",
       "       [0.713136  , 0.3355773 , 0.4560043 ],\n",
       "       [0.21943869, 0.54719821, 0.75770033],\n",
       "       [0.14811748, 0.45872663, 0.87467793],\n",
       "       [0.23519741, 0.50532986, 0.76935705],\n",
       "       [0.11174013, 0.43725988, 0.91192428],\n",
       "       [0.70468609, 0.38718322, 0.41346736],\n",
       "       [0.11464438, 0.62119928, 0.83200797],\n",
       "       [0.68210553, 0.29006501, 0.54217937],\n",
       "       [0.68843397, 0.39142173, 0.42869028],\n",
       "       [0.05295624, 0.50409239, 0.9471291 ],\n",
       "       [0.71427795, 0.3034914 , 0.48978499],\n",
       "       [0.0975364 , 0.4694991 , 0.91353308],\n",
       "       [0.06234695, 0.53359879, 0.93103639],\n",
       "       [0.67655699, 0.44410646, 0.39132553],\n",
       "       [0.23196589, 0.55758283, 0.73606189],\n",
       "       [0.19261311, 0.51254666, 0.807798  ],\n",
       "       [0.23023758, 0.5748465 , 0.72455001],\n",
       "       [0.31668862, 0.54575019, 0.65494206],\n",
       "       [0.66091401, 0.34051832, 0.50817811],\n",
       "       [0.09235142, 0.48696765, 0.91232057],\n",
       "       [0.12682603, 0.56425133, 0.84945236],\n",
       "       [0.16531878, 0.4563367 , 0.86085038],\n",
       "       [0.19347329, 0.44313685, 0.84300314],\n",
       "       [0.18633235, 0.49490552, 0.82308955],\n",
       "       [0.13162099, 0.48060277, 0.87976092],\n",
       "       [0.21222692, 0.5027163 , 0.79278443],\n",
       "       [0.08542531, 0.47471829, 0.92240495],\n",
       "       [0.64916223, 0.42427156, 0.43876357],\n",
       "       [0.11985965, 0.48915384, 0.88765852],\n",
       "       [0.67001893, 0.3565409 , 0.48277161],\n",
       "       [0.13502283, 0.44698811, 0.88929752],\n",
       "       [0.20205106, 0.47466401, 0.81976552],\n",
       "       [0.72227044, 0.30372991, 0.47992405],\n",
       "       [0.28157613, 0.47941798, 0.74255116],\n",
       "       [0.09074178, 0.43949233, 0.92719373],\n",
       "       [0.22440305, 0.52585206, 0.76635895],\n",
       "       [0.11582078, 0.48583236, 0.89168712],\n",
       "       [0.11479489, 0.45189094, 0.90387051],\n",
       "       [0.67314958, 0.406924  , 0.43070925],\n",
       "       [0.24513896, 0.40079592, 0.8249982 ],\n",
       "       [0.3134759 , 0.56867344, 0.63978216],\n",
       "       [0.13042707, 0.54198337, 0.85379567],\n",
       "       [0.26865428, 0.53222592, 0.71671323],\n",
       "       [0.70115066, 0.33608292, 0.46886807],\n",
       "       [0.09416927, 0.46618929, 0.91672086],\n",
       "       [0.1754365 , 0.61202922, 0.7609917 ],\n",
       "       [0.74264155, 0.25380972, 0.51226611],\n",
       "       [0.21725535, 0.51127083, 0.78380084],\n",
       "       [0.09085338, 0.53013818, 0.90090481],\n",
       "       [0.23426174, 0.52027625, 0.7599899 ],\n",
       "       [0.05161422, 0.49751558, 0.94904317],\n",
       "       [0.14805485, 0.52145131, 0.84474882],\n",
       "       [0.20536436, 0.48811617, 0.8087459 ]])"
      ]
     },
     "execution_count": 128,
     "metadata": {},
     "output_type": "execute_result"
    }
   ],
   "source": [
    "#from sklearn.metrics import accuracy_score\n",
    "#acc = accuracy_score(y_train,y_hat)\n",
    "y_hat\n"
   ]
  },
  {
   "cell_type": "code",
   "execution_count": 129,
   "metadata": {},
   "outputs": [],
   "source": [
    "class LogisticRegression():\n",
    "    def predict(self, x):\n",
    "        z = np.dot(x, W) + b\n",
    "        y_hat = sigmoid(z)\n",
    "        return y_hat"
   ]
  },
  {
   "cell_type": "code",
   "execution_count": 136,
   "metadata": {},
   "outputs": [],
   "source": [
    "# Evaluation\n",
    "model = LogisticRegression()\n",
    "input_train = model.predict(X_train)\n",
    "pred_train = np.argmax(input_train, axis=1)\n",
    "y_train_max = np.argmax(y_train, axis=1)\n",
    "output_val = model.predict(X_val)\n",
    "pred_val = np.argmax(output_val, axis=1)\n",
    "y_val_max = np.argmax(y_val,axis=1)"
   ]
  },
  {
   "cell_type": "code",
   "execution_count": 137,
   "metadata": {},
   "outputs": [
    {
     "data": {
      "text/plain": [
       "array([ True,  True,  True,  True,  True,  True,  True,  True,  True,\n",
       "        True,  True,  True,  True,  True,  True, False,  True,  True,\n",
       "       False, False,  True, False,  True,  True,  True,  True, False,\n",
       "       False, False, False,  True,  True,  True, False,  True,  True,\n",
       "       False,  True,  True,  True,  True,  True,  True,  True, False,\n",
       "        True,  True,  True, False,  True,  True,  True,  True,  True,\n",
       "        True, False, False, False,  True,  True, False,  True,  True,\n",
       "        True,  True,  True,  True,  True, False, False, False, False,\n",
       "        True,  True,  True, False, False, False, False, False,  True,\n",
       "        True,  True,  True,  True, False,  True, False,  True, False,\n",
       "        True,  True,  True, False, False,  True, False,  True,  True,\n",
       "       False,  True, False,  True, False,  True,  True, False])"
      ]
     },
     "execution_count": 137,
     "metadata": {},
     "output_type": "execute_result"
    }
   ],
   "source": [
    "(pred_train == y_train_max)"
   ]
  },
  {
   "cell_type": "code",
   "execution_count": 138,
   "metadata": {},
   "outputs": [
    {
     "data": {
      "text/plain": [
       "array([ True, False, False,  True, False, False, False, False, False,\n",
       "       False, False,  True,  True, False, False, False, False, False,\n",
       "        True, False])"
      ]
     },
     "execution_count": 138,
     "metadata": {},
     "output_type": "execute_result"
    }
   ],
   "source": [
    "(pred_val == y_val_max)"
   ]
  },
  {
   "cell_type": "code",
   "execution_count": 139,
   "metadata": {},
   "outputs": [
    {
     "ename": "ValueError",
     "evalue": "could not convert string to float: 'Iris-virginica'",
     "output_type": "error",
     "traceback": [
      "\u001b[1;31m---------------------------------------------------------------------------\u001b[0m",
      "\u001b[1;31mValueError\u001b[0m                                Traceback (most recent call last)",
      "\u001b[1;32m<ipython-input-139-66bdc4ded923>\u001b[0m in \u001b[0;36m<module>\u001b[1;34m\u001b[0m\n\u001b[0;32m      1\u001b[0m \u001b[0my_pred1\u001b[0m\u001b[1;33m=\u001b[0m\u001b[0my_pred1\u001b[0m\u001b[1;33m.\u001b[0m\u001b[0mreshape\u001b[0m\u001b[1;33m(\u001b[0m\u001b[1;36m23\u001b[0m\u001b[1;33m,\u001b[0m\u001b[1;36m1\u001b[0m\u001b[1;33m)\u001b[0m\u001b[1;33m\u001b[0m\u001b[1;33m\u001b[0m\u001b[0m\n\u001b[1;32m----> 2\u001b[1;33m \u001b[0monehot_encoder\u001b[0m\u001b[1;33m.\u001b[0m\u001b[0minverse_transform\u001b[0m\u001b[1;33m(\u001b[0m\u001b[0my_pred1\u001b[0m\u001b[1;33m)\u001b[0m\u001b[1;33m\u001b[0m\u001b[1;33m\u001b[0m\u001b[0m\n\u001b[0m",
      "\u001b[1;32m~\\Anaconda3\\lib\\site-packages\\sklearn\\preprocessing\\_encoders.py\u001b[0m in \u001b[0;36minverse_transform\u001b[1;34m(self, X)\u001b[0m\n\u001b[0;32m    632\u001b[0m \u001b[1;33m\u001b[0m\u001b[0m\n\u001b[0;32m    633\u001b[0m         \u001b[0mcheck_is_fitted\u001b[0m\u001b[1;33m(\u001b[0m\u001b[0mself\u001b[0m\u001b[1;33m,\u001b[0m \u001b[1;34m'categories_'\u001b[0m\u001b[1;33m)\u001b[0m\u001b[1;33m\u001b[0m\u001b[1;33m\u001b[0m\u001b[0m\n\u001b[1;32m--> 634\u001b[1;33m         \u001b[0mX\u001b[0m \u001b[1;33m=\u001b[0m \u001b[0mcheck_array\u001b[0m\u001b[1;33m(\u001b[0m\u001b[0mX\u001b[0m\u001b[1;33m,\u001b[0m \u001b[0maccept_sparse\u001b[0m\u001b[1;33m=\u001b[0m\u001b[1;34m'csr'\u001b[0m\u001b[1;33m)\u001b[0m\u001b[1;33m\u001b[0m\u001b[1;33m\u001b[0m\u001b[0m\n\u001b[0m\u001b[0;32m    635\u001b[0m \u001b[1;33m\u001b[0m\u001b[0m\n\u001b[0;32m    636\u001b[0m         \u001b[0mn_samples\u001b[0m\u001b[1;33m,\u001b[0m \u001b[0m_\u001b[0m \u001b[1;33m=\u001b[0m \u001b[0mX\u001b[0m\u001b[1;33m.\u001b[0m\u001b[0mshape\u001b[0m\u001b[1;33m\u001b[0m\u001b[1;33m\u001b[0m\u001b[0m\n",
      "\u001b[1;32m~\\Anaconda3\\lib\\site-packages\\sklearn\\utils\\validation.py\u001b[0m in \u001b[0;36mcheck_array\u001b[1;34m(array, accept_sparse, accept_large_sparse, dtype, order, copy, force_all_finite, ensure_2d, allow_nd, ensure_min_samples, ensure_min_features, warn_on_dtype, estimator)\u001b[0m\n\u001b[0;32m    525\u001b[0m             \u001b[1;32mtry\u001b[0m\u001b[1;33m:\u001b[0m\u001b[1;33m\u001b[0m\u001b[1;33m\u001b[0m\u001b[0m\n\u001b[0;32m    526\u001b[0m                 \u001b[0mwarnings\u001b[0m\u001b[1;33m.\u001b[0m\u001b[0msimplefilter\u001b[0m\u001b[1;33m(\u001b[0m\u001b[1;34m'error'\u001b[0m\u001b[1;33m,\u001b[0m \u001b[0mComplexWarning\u001b[0m\u001b[1;33m)\u001b[0m\u001b[1;33m\u001b[0m\u001b[1;33m\u001b[0m\u001b[0m\n\u001b[1;32m--> 527\u001b[1;33m                 \u001b[0marray\u001b[0m \u001b[1;33m=\u001b[0m \u001b[0mnp\u001b[0m\u001b[1;33m.\u001b[0m\u001b[0masarray\u001b[0m\u001b[1;33m(\u001b[0m\u001b[0marray\u001b[0m\u001b[1;33m,\u001b[0m \u001b[0mdtype\u001b[0m\u001b[1;33m=\u001b[0m\u001b[0mdtype\u001b[0m\u001b[1;33m,\u001b[0m \u001b[0morder\u001b[0m\u001b[1;33m=\u001b[0m\u001b[0morder\u001b[0m\u001b[1;33m)\u001b[0m\u001b[1;33m\u001b[0m\u001b[1;33m\u001b[0m\u001b[0m\n\u001b[0m\u001b[0;32m    528\u001b[0m             \u001b[1;32mexcept\u001b[0m \u001b[0mComplexWarning\u001b[0m\u001b[1;33m:\u001b[0m\u001b[1;33m\u001b[0m\u001b[1;33m\u001b[0m\u001b[0m\n\u001b[0;32m    529\u001b[0m                 raise ValueError(\"Complex data not supported\\n\"\n",
      "\u001b[1;32m~\\Anaconda3\\lib\\site-packages\\numpy\\core\\_asarray.py\u001b[0m in \u001b[0;36masarray\u001b[1;34m(a, dtype, order)\u001b[0m\n\u001b[0;32m     83\u001b[0m \u001b[1;33m\u001b[0m\u001b[0m\n\u001b[0;32m     84\u001b[0m     \"\"\"\n\u001b[1;32m---> 85\u001b[1;33m     \u001b[1;32mreturn\u001b[0m \u001b[0marray\u001b[0m\u001b[1;33m(\u001b[0m\u001b[0ma\u001b[0m\u001b[1;33m,\u001b[0m \u001b[0mdtype\u001b[0m\u001b[1;33m,\u001b[0m \u001b[0mcopy\u001b[0m\u001b[1;33m=\u001b[0m\u001b[1;32mFalse\u001b[0m\u001b[1;33m,\u001b[0m \u001b[0morder\u001b[0m\u001b[1;33m=\u001b[0m\u001b[0morder\u001b[0m\u001b[1;33m)\u001b[0m\u001b[1;33m\u001b[0m\u001b[1;33m\u001b[0m\u001b[0m\n\u001b[0m\u001b[0;32m     86\u001b[0m \u001b[1;33m\u001b[0m\u001b[0m\n\u001b[0;32m     87\u001b[0m \u001b[1;33m\u001b[0m\u001b[0m\n",
      "\u001b[1;31mValueError\u001b[0m: could not convert string to float: 'Iris-virginica'"
     ]
    }
   ],
   "source": [
    "y_pred1=y_pred1.reshape(23,1)\n",
    "onehot_encoder.inverse_transform(y_pred1)"
   ]
  },
  {
   "cell_type": "code",
   "execution_count": 61,
   "metadata": {},
   "outputs": [
    {
     "ename": "ValueError",
     "evalue": "Classification metrics can't handle a mix of multilabel-indicator and multiclass targets",
     "output_type": "error",
     "traceback": [
      "\u001b[1;31m---------------------------------------------------------------------------\u001b[0m",
      "\u001b[1;31mValueError\u001b[0m                                Traceback (most recent call last)",
      "\u001b[1;32m<ipython-input-61-812fc90635e6>\u001b[0m in \u001b[0;36m<module>\u001b[1;34m\u001b[0m\n\u001b[0;32m      1\u001b[0m \u001b[1;32mfrom\u001b[0m \u001b[0msklearn\u001b[0m\u001b[1;33m.\u001b[0m\u001b[0mmetrics\u001b[0m \u001b[1;32mimport\u001b[0m \u001b[0mclassification_report\u001b[0m\u001b[1;33m\u001b[0m\u001b[1;33m\u001b[0m\u001b[0m\n\u001b[1;32m----> 2\u001b[1;33m \u001b[0mcr\u001b[0m \u001b[1;33m=\u001b[0m \u001b[0mclassification_report\u001b[0m\u001b[1;33m(\u001b[0m\u001b[0my_test\u001b[0m\u001b[1;33m,\u001b[0m \u001b[0my_pred1\u001b[0m\u001b[1;33m)\u001b[0m\u001b[1;33m\u001b[0m\u001b[1;33m\u001b[0m\u001b[0m\n\u001b[0m",
      "\u001b[1;32m~\\Anaconda3\\lib\\site-packages\\sklearn\\metrics\\classification.py\u001b[0m in \u001b[0;36mclassification_report\u001b[1;34m(y_true, y_pred, labels, target_names, sample_weight, digits, output_dict)\u001b[0m\n\u001b[0;32m   1522\u001b[0m     \"\"\"\n\u001b[0;32m   1523\u001b[0m \u001b[1;33m\u001b[0m\u001b[0m\n\u001b[1;32m-> 1524\u001b[1;33m     \u001b[0my_type\u001b[0m\u001b[1;33m,\u001b[0m \u001b[0my_true\u001b[0m\u001b[1;33m,\u001b[0m \u001b[0my_pred\u001b[0m \u001b[1;33m=\u001b[0m \u001b[0m_check_targets\u001b[0m\u001b[1;33m(\u001b[0m\u001b[0my_true\u001b[0m\u001b[1;33m,\u001b[0m \u001b[0my_pred\u001b[0m\u001b[1;33m)\u001b[0m\u001b[1;33m\u001b[0m\u001b[1;33m\u001b[0m\u001b[0m\n\u001b[0m\u001b[0;32m   1525\u001b[0m \u001b[1;33m\u001b[0m\u001b[0m\n\u001b[0;32m   1526\u001b[0m     \u001b[0mlabels_given\u001b[0m \u001b[1;33m=\u001b[0m \u001b[1;32mTrue\u001b[0m\u001b[1;33m\u001b[0m\u001b[1;33m\u001b[0m\u001b[0m\n",
      "\u001b[1;32m~\\Anaconda3\\lib\\site-packages\\sklearn\\metrics\\classification.py\u001b[0m in \u001b[0;36m_check_targets\u001b[1;34m(y_true, y_pred)\u001b[0m\n\u001b[0;32m     79\u001b[0m     \u001b[1;32mif\u001b[0m \u001b[0mlen\u001b[0m\u001b[1;33m(\u001b[0m\u001b[0my_type\u001b[0m\u001b[1;33m)\u001b[0m \u001b[1;33m>\u001b[0m \u001b[1;36m1\u001b[0m\u001b[1;33m:\u001b[0m\u001b[1;33m\u001b[0m\u001b[1;33m\u001b[0m\u001b[0m\n\u001b[0;32m     80\u001b[0m         raise ValueError(\"Classification metrics can't handle a mix of {0} \"\n\u001b[1;32m---> 81\u001b[1;33m                          \"and {1} targets\".format(type_true, type_pred))\n\u001b[0m\u001b[0;32m     82\u001b[0m \u001b[1;33m\u001b[0m\u001b[0m\n\u001b[0;32m     83\u001b[0m     \u001b[1;31m# We can't have more than one value on y_type => The set is no more needed\u001b[0m\u001b[1;33m\u001b[0m\u001b[1;33m\u001b[0m\u001b[1;33m\u001b[0m\u001b[0m\n",
      "\u001b[1;31mValueError\u001b[0m: Classification metrics can't handle a mix of multilabel-indicator and multiclass targets"
     ]
    }
   ],
   "source": [
    "from sklearn.metrics import classification_report\n",
    "cr = classification_report(y_test, y_pred1)"
   ]
  },
  {
   "cell_type": "code",
   "execution_count": 118,
   "metadata": {},
   "outputs": [
    {
     "name": "stdout",
     "output_type": "stream",
     "text": [
      "train acc: 0.51, val acc: 0.00\n"
     ]
    }
   ],
   "source": [
    "# Training and test accuracy\n",
    "train_acc =  np.mean(np.equal(y_train,np.array(np.ix_(pred_train)).T))\n",
    "val_acc = np.mean(np.equal(y_val,np.array(np.ix_(pred_val)).T))\n",
    "print (f\"train acc: {train_acc:.2f}, val acc: {val_acc:.2f}\")"
   ]
  },
  {
   "cell_type": "code",
   "execution_count": 119,
   "metadata": {},
   "outputs": [
    {
     "ename": "ValueError",
     "evalue": "Mix of label input types (string and number)",
     "output_type": "error",
     "traceback": [
      "\u001b[1;31m---------------------------------------------------------------------------\u001b[0m",
      "\u001b[1;31mValueError\u001b[0m                                Traceback (most recent call last)",
      "\u001b[1;32m<ipython-input-119-a5a7a8e2e658>\u001b[0m in \u001b[0;36m<module>\u001b[1;34m\u001b[0m\n\u001b[0;32m      1\u001b[0m \u001b[1;31m#testing for the accuracy of the model\u001b[0m\u001b[1;33m\u001b[0m\u001b[1;33m\u001b[0m\u001b[1;33m\u001b[0m\u001b[0m\n\u001b[0;32m      2\u001b[0m \u001b[1;32mfrom\u001b[0m \u001b[0msklearn\u001b[0m\u001b[1;33m.\u001b[0m\u001b[0mmetrics\u001b[0m \u001b[1;32mimport\u001b[0m \u001b[0mclassification_report\u001b[0m\u001b[1;33m\u001b[0m\u001b[1;33m\u001b[0m\u001b[0m\n\u001b[1;32m----> 3\u001b[1;33m \u001b[0mcr\u001b[0m \u001b[1;33m=\u001b[0m \u001b[0mclassification_report\u001b[0m\u001b[1;33m(\u001b[0m\u001b[0my_val\u001b[0m\u001b[1;33m,\u001b[0m \u001b[0mpred_val\u001b[0m\u001b[1;33m)\u001b[0m\u001b[1;33m\u001b[0m\u001b[1;33m\u001b[0m\u001b[0m\n\u001b[0m\u001b[0;32m      4\u001b[0m \u001b[0mprint\u001b[0m\u001b[1;33m(\u001b[0m\u001b[0mcr\u001b[0m\u001b[1;33m)\u001b[0m\u001b[1;33m\u001b[0m\u001b[1;33m\u001b[0m\u001b[0m\n",
      "\u001b[1;32m~\\Anaconda3\\lib\\site-packages\\sklearn\\metrics\\classification.py\u001b[0m in \u001b[0;36mclassification_report\u001b[1;34m(y_true, y_pred, labels, target_names, sample_weight, digits, output_dict)\u001b[0m\n\u001b[0;32m   1526\u001b[0m     \u001b[0mlabels_given\u001b[0m \u001b[1;33m=\u001b[0m \u001b[1;32mTrue\u001b[0m\u001b[1;33m\u001b[0m\u001b[1;33m\u001b[0m\u001b[0m\n\u001b[0;32m   1527\u001b[0m     \u001b[1;32mif\u001b[0m \u001b[0mlabels\u001b[0m \u001b[1;32mis\u001b[0m \u001b[1;32mNone\u001b[0m\u001b[1;33m:\u001b[0m\u001b[1;33m\u001b[0m\u001b[1;33m\u001b[0m\u001b[0m\n\u001b[1;32m-> 1528\u001b[1;33m         \u001b[0mlabels\u001b[0m \u001b[1;33m=\u001b[0m \u001b[0munique_labels\u001b[0m\u001b[1;33m(\u001b[0m\u001b[0my_true\u001b[0m\u001b[1;33m,\u001b[0m \u001b[0my_pred\u001b[0m\u001b[1;33m)\u001b[0m\u001b[1;33m\u001b[0m\u001b[1;33m\u001b[0m\u001b[0m\n\u001b[0m\u001b[0;32m   1529\u001b[0m         \u001b[0mlabels_given\u001b[0m \u001b[1;33m=\u001b[0m \u001b[1;32mFalse\u001b[0m\u001b[1;33m\u001b[0m\u001b[1;33m\u001b[0m\u001b[0m\n\u001b[0;32m   1530\u001b[0m     \u001b[1;32melse\u001b[0m\u001b[1;33m:\u001b[0m\u001b[1;33m\u001b[0m\u001b[1;33m\u001b[0m\u001b[0m\n",
      "\u001b[1;32m~\\Anaconda3\\lib\\site-packages\\sklearn\\utils\\multiclass.py\u001b[0m in \u001b[0;36munique_labels\u001b[1;34m(*ys)\u001b[0m\n\u001b[0;32m    100\u001b[0m     \u001b[1;31m# Check that we don't mix string type with number type\u001b[0m\u001b[1;33m\u001b[0m\u001b[1;33m\u001b[0m\u001b[1;33m\u001b[0m\u001b[0m\n\u001b[0;32m    101\u001b[0m     \u001b[1;32mif\u001b[0m \u001b[1;33m(\u001b[0m\u001b[0mlen\u001b[0m\u001b[1;33m(\u001b[0m\u001b[0mset\u001b[0m\u001b[1;33m(\u001b[0m\u001b[0misinstance\u001b[0m\u001b[1;33m(\u001b[0m\u001b[0mlabel\u001b[0m\u001b[1;33m,\u001b[0m \u001b[0mstring_types\u001b[0m\u001b[1;33m)\u001b[0m \u001b[1;32mfor\u001b[0m \u001b[0mlabel\u001b[0m \u001b[1;32min\u001b[0m \u001b[0mys_labels\u001b[0m\u001b[1;33m)\u001b[0m\u001b[1;33m)\u001b[0m \u001b[1;33m>\u001b[0m \u001b[1;36m1\u001b[0m\u001b[1;33m)\u001b[0m\u001b[1;33m:\u001b[0m\u001b[1;33m\u001b[0m\u001b[1;33m\u001b[0m\u001b[0m\n\u001b[1;32m--> 102\u001b[1;33m         \u001b[1;32mraise\u001b[0m \u001b[0mValueError\u001b[0m\u001b[1;33m(\u001b[0m\u001b[1;34m\"Mix of label input types (string and number)\"\u001b[0m\u001b[1;33m)\u001b[0m\u001b[1;33m\u001b[0m\u001b[1;33m\u001b[0m\u001b[0m\n\u001b[0m\u001b[0;32m    103\u001b[0m \u001b[1;33m\u001b[0m\u001b[0m\n\u001b[0;32m    104\u001b[0m     \u001b[1;32mreturn\u001b[0m \u001b[0mnp\u001b[0m\u001b[1;33m.\u001b[0m\u001b[0marray\u001b[0m\u001b[1;33m(\u001b[0m\u001b[0msorted\u001b[0m\u001b[1;33m(\u001b[0m\u001b[0mys_labels\u001b[0m\u001b[1;33m)\u001b[0m\u001b[1;33m)\u001b[0m\u001b[1;33m\u001b[0m\u001b[1;33m\u001b[0m\u001b[0m\n",
      "\u001b[1;31mValueError\u001b[0m: Mix of label input types (string and number)"
     ]
    }
   ],
   "source": [
    "#testing for the accuracy of the model\n",
    "from sklearn.metrics import classification_report\n",
    "cr = classification_report(y_val, pred_val)\n",
    "print(cr)"
   ]
  },
  {
   "cell_type": "code",
   "execution_count": 65,
   "metadata": {},
   "outputs": [],
   "source": [
    "#Defining dataset\n",
    "X_train,y_train = make_classification(n_samples = 107, n_features = 4, n_redundant = 0, n_repeated = 0,\n",
    "                                      n_informative = 4, n_classes = 3,n_clusters_per_class = 1)"
   ]
  },
  {
   "cell_type": "code",
   "execution_count": 66,
   "metadata": {},
   "outputs": [],
   "source": [
    "# defining classification model\n",
    "multiclass_model = LogisticRegression(multi_class='ovr')"
   ]
  },
  {
   "cell_type": "code",
   "execution_count": 67,
   "metadata": {},
   "outputs": [
    {
     "name": "stderr",
     "output_type": "stream",
     "text": [
      "C:\\Users\\JADESOLA\\Anaconda3\\lib\\site-packages\\sklearn\\linear_model\\logistic.py:433: FutureWarning: Default solver will be changed to 'lbfgs' in 0.22. Specify a solver to silence this warning.\n",
      "  FutureWarning)\n"
     ]
    },
    {
     "data": {
      "text/plain": [
       "LogisticRegression(C=1.0, class_weight=None, dual=False, fit_intercept=True,\n",
       "          intercept_scaling=1, max_iter=100, multi_class='ovr',\n",
       "          n_jobs=None, penalty='l2', random_state=None, solver='warn',\n",
       "          tol=0.0001, verbose=0, warm_start=False)"
      ]
     },
     "execution_count": 67,
     "metadata": {},
     "output_type": "execute_result"
    }
   ],
   "source": [
    "#fit model\n",
    "multiclass_model.fit(X_train,y_train)"
   ]
  },
  {
   "cell_type": "code",
   "execution_count": 69,
   "metadata": {},
   "outputs": [],
   "source": [
    "y_pred = multiclass_model.predict(X_train)"
   ]
  },
  {
   "cell_type": "code",
   "execution_count": 70,
   "metadata": {},
   "outputs": [
    {
     "data": {
      "text/plain": [
       "array([2, 1, 1, 2, 1, 2, 0, 1, 2, 2, 2, 1, 0, 2, 1, 1, 2, 0, 2, 0, 1, 0,\n",
       "       2, 0, 1, 1, 0, 2, 2, 0, 1, 0, 0, 0, 0, 2, 1, 2, 0, 2, 1, 2, 2, 2,\n",
       "       1, 0, 0, 1, 1, 0, 1, 2, 1, 0, 0, 0, 1, 0, 1, 0, 0, 0, 2, 1, 1, 0,\n",
       "       0, 2, 1, 2, 0, 1, 1, 0, 2, 0, 0, 1, 1, 2, 1, 2, 2, 2, 1, 0, 0, 0,\n",
       "       2, 1, 1, 0, 0, 1, 0, 2, 1, 2, 2, 2, 1, 0, 1, 2, 2, 1, 1])"
      ]
     },
     "execution_count": 70,
     "metadata": {},
     "output_type": "execute_result"
    }
   ],
   "source": [
    "y_pred"
   ]
  },
  {
   "cell_type": "code",
   "execution_count": null,
   "metadata": {},
   "outputs": [],
   "source": []
  }
 ],
 "metadata": {
  "kernelspec": {
   "display_name": "Python 3",
   "language": "python",
   "name": "python3"
  },
  "language_info": {
   "codemirror_mode": {
    "name": "ipython",
    "version": 3
   },
   "file_extension": ".py",
   "mimetype": "text/x-python",
   "name": "python",
   "nbconvert_exporter": "python",
   "pygments_lexer": "ipython3",
   "version": "3.7.1"
  }
 },
 "nbformat": 4,
 "nbformat_minor": 2
}
